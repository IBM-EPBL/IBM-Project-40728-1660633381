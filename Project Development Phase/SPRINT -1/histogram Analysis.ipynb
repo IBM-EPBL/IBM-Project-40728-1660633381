{
 "cells": [
  {
   "cell_type": "code",
   "execution_count": null,
   "id": "c54d70f5",
   "metadata": {},
   "outputs": [],
   "source": [
    "import matplotlib.pyplot as plt\n",
    "import numpy as np\n",
    "from skimage.io import imread\n",
    "I = imread('/content/23ea1618-d554-47fb-bc03-a1b978f14fbf___RS_HL 6008.JPG')\n",
    "J = imread('/content/25de086c-ea7e-42b0-83fd-bc7d1e584d0a___RS_HL 5852.JPG')\n",
    "plt.figure()\n",
    "plt.subplot(121), plt.imshow(I)\n",
    "plt.subplot(122), plt.imshow(J)\n",
    "plt.show()\n",
    "\n",
    "plt.figure(figsize=(10, 10))\n",
    "plt.imshow(np.abs(I[:, :, 0].astype(float) - J[:, :, 0].astype(float)), cmap='gray')\n",
    "plt.show()\n",
    "\n",
    "d = imread('/content/23ea1618-d554-47fb-bc03-a1b978f14fbf___RS_HL 6008.JPG')\n",
    "mask = imread('/content/25de086c-ea7e-42b0-83fd-bc7d1e584d0a___RS_HL 5852.JPG')\n",
    "\n",
    "print(np.amin(d), np.amax(d))\n",
    "print(np.amin(mask), np.amax(mask))\n",
    "0 203\n",
    "0 251\n",
    "plt.figure(), plt.imshow(mask), plt.show()\n",
    "\n",
    "(,\n",
    " ,\n",
    " None)\n",
    "mask = mask[:, :, 0]\n",
    "maskInv = np.zeros_like(mask)\n",
    "maskInv[mask == 0] = 255\n",
    "maskInv[mask == 255] = 0\n",
    "plt.figure(), plt.imshow(maskInv, cmap='gray'), plt.show()\n"
   ]
  }
 ],
 "metadata": {
  "kernelspec": {
   "display_name": "Python 3 (ipykernel)",
   "language": "python",
   "name": "python3"
  },
  "language_info": {
   "codemirror_mode": {
    "name": "ipython",
    "version": 3
   },
   "file_extension": ".py",
   "mimetype": "text/x-python",
   "name": "python",
   "nbconvert_exporter": "python",
   "pygments_lexer": "ipython3",
   "version": "3.9.12"
  }
 },
 "nbformat": 4,
 "nbformat_minor": 5
}
