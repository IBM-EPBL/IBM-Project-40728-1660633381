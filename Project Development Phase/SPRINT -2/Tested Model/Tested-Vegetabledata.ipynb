{
 "cells": [
  {
   "cell_type": "code",
   "execution_count": null,
   "id": "21f704ad",
   "metadata": {},
   "outputs": [],
   "source": [
    "test_dir=r'C:\\Users\\maris_q3mm6nk\\Desktop\\FILES\\data_for_ibm\\Fertilizers_Recommendation_ System_For_Disease_ Prediction\\Dataset Plant Disease\\Veg-dataset\\Veg-dataset\\test_set'\n",
    "import tensorflow as tf \n",
    "from tensorflow import keras \n",
    "from tensorflow.keras.preprocessing.image import ImageDataGenerator\n",
    "model = tf.keras.models.load_model(r'C:\\Users\\maris_q3mm6nk\\Desktop\\FILES\\data_for_ibm\\Fertilizers_Recommendation_ System_For_Disease_ Prediction\\Dataset Plant Disease\\vegetabledata.h5')\n",
    "test_datagen_1=ImageDataGenerator(rescale=1)\n",
    "test_generator_1=test_datagen_1.flow_from_directory(\n",
    "    test_dir,\n",
    "    target_size=(128,128),\n",
    "    batch_size=20,\n",
    "    class_mode='categorical'\n",
    ")\n",
    "Found 3416 images belonging to 9 classes.\n",
    "import numpy as np\n",
    "from tensorflow.keras.models import load_model\n",
    "from tensorflow.keras.preprocessing import image\n",
    "img=image.load_img(r\"C:\\Users\\maris_q3mm6nk\\Desktop\\FILES\\data_for_ibm\\Fertilizers_Recommendation_ System_For_Disease_ Prediction\\Dataset Plant Disease\\Veg-dataset\\Veg-dataset\\test_set\\Potato___Early_blight\\b7157976-61c2-4366-87c5-e3de23aa7c10___RS_Early.B 7227.jpg\")\n",
    "img\n",
    "\n",
    "img=image.load_img(r\"C:\\Users\\maris_q3mm6nk\\Desktop\\FILES\\data_for_ibm\\Fertilizers_Recommendation_ System_For_Disease_ Prediction\\Dataset Plant Disease\\Veg-dataset\\Veg-dataset\\test_set\\Potato___Early_blight\\b7157976-61c2-4366-87c5-e3de23aa7c10___RS_Early.B 7227.jpg\",target_size=(128,128))\n",
    "x=image.img_to_array(img)\n",
    "x=np.expand_dims(x,axis=0)\n",
    "y=np.argmax(model.predict(x),axis=1)\n",
    "index=['Apple___Black_rot', 'Apple___healthy', 'Corn_(maize)___healthy', 'Corn_(maize)___Northern_Leaf_Blight', 'Peach___Bacterial_spot', 'Peach___healthy']\n",
    "index[y[0]]\n",
    "1/1 [==============================] - 0s 172ms/step\n",
    "'Peach___healthy'\n",
    "model.evaluate(test_generator_1,steps=50)\n",
    "50/50 [==============================] - 5s 103ms/step - loss: 2.1039 - accuracy: 0.1890\n",
    "[2.103949785232544, 0.1889999955892563]"
   ]
  }
 ],
 "metadata": {
  "kernelspec": {
   "display_name": "Python 3 (ipykernel)",
   "language": "python",
   "name": "python3"
  },
  "language_info": {
   "codemirror_mode": {
    "name": "ipython",
    "version": 3
   },
   "file_extension": ".py",
   "mimetype": "text/x-python",
   "name": "python",
   "nbconvert_exporter": "python",
   "pygments_lexer": "ipython3",
   "version": "3.9.12"
  }
 },
 "nbformat": 4,
 "nbformat_minor": 5
}
