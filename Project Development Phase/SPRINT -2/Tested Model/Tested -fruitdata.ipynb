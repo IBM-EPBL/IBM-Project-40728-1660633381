{
 "cells": [
  {
   "cell_type": "code",
   "execution_count": null,
   "id": "b278405b",
   "metadata": {},
   "outputs": [],
   "source": [
    "test_dir=r'C:\\Users\\maris_q3mm6nk\\Desktop\\FILES\\data_for_ibm\\Fertilizers_Recommendation_ System_For_Disease_ Prediction\\Dataset Plant Disease\\fruit-dataset\\fruit-dataset\\test'\n",
    "import tensorflow as tf \n",
    "from tensorflow import keras \n",
    "from tensorflow.keras.preprocessing.image import ImageDataGenerator\n",
    "model = tf.keras.models.load_model(r'C:\\Users\\maris_q3mm6nk\\Desktop\\FILES\\data_for_ibm\\Fertilizers_Recommendation_ System_For_Disease_ Prediction\\Dataset Plant Disease\\fruitdata.h5')\n",
    "test_datagen_1=ImageDataGenerator(rescale=1)\n",
    "test_generator_1=test_datagen_1.flow_from_directory(\n",
    "    test_dir,\n",
    "    target_size=(128,128),\n",
    "    batch_size=20,\n",
    "    class_mode='categorical'\n",
    ")\n",
    "Found 1686 images belonging to 6 classes.\n",
    "import numpy as np\n",
    "from tensorflow.keras.models import load_model\n",
    "from tensorflow.keras.preprocessing import image\n",
    "img=image.load_img(r\"C:\\Users\\maris_q3mm6nk\\Desktop\\FILES\\data_for_ibm\\Fertilizers_Recommendation_ System_For_Disease_ Prediction\\Dataset Plant Disease\\fruit-dataset\\fruit-dataset\\train\\Corn_(maize)___healthy\\9faacf6a-f638-435a-8994-f1418b332199___R.S_HL 8102 copy 2.jpg\")\n",
    "img\n",
    "\n",
    "img=image.load_img(r\"C:\\Users\\maris_q3mm6nk\\Desktop\\FILES\\data_for_ibm\\Fertilizers_Recommendation_ System_For_Disease_ Prediction\\Dataset Plant Disease\\fruit-dataset\\fruit-dataset\\train\\Corn_(maize)___healthy\\9faacf6a-f638-435a-8994-f1418b332199___R.S_HL 8102 copy 2.jpg\",target_size=(128,128))\n",
    "x=image.img_to_array(img)\n",
    "x=np.expand_dims(x,axis=0)\n",
    "y=np.argmax(model.predict(x),axis=1)\n",
    "index=['Apple___Black_rot', 'Apple___healthy', 'Corn_(maize)___healthy', 'Corn_(maize)___Northern_Leaf_Blight', 'Peach___Bacterial_spot', 'Peach___healthy']\n",
    "index[y[0]]\n",
    "1/1 [==============================] - 0s 57ms/step\n",
    "'Corn_(maize)___Northern_Leaf_Blight'\n",
    "model.evaluate(test_generator_1,steps=50)\n",
    "50/50 [==============================] - 4s 76ms/step - loss: 1036.1377 - accuracy: 0.6220\n",
    "[1036.1376953125, 0.621999979019165]"
   ]
  }
 ],
 "metadata": {
  "kernelspec": {
   "display_name": "Python 3 (ipykernel)",
   "language": "python",
   "name": "python3"
  },
  "language_info": {
   "codemirror_mode": {
    "name": "ipython",
    "version": 3
   },
   "file_extension": ".py",
   "mimetype": "text/x-python",
   "name": "python",
   "nbconvert_exporter": "python",
   "pygments_lexer": "ipython3",
   "version": "3.9.12"
  }
 },
 "nbformat": 4,
 "nbformat_minor": 5
}
