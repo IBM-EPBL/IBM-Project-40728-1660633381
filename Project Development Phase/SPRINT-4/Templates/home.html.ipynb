{
 "cells": [
  {
   "cell_type": "code",
   "execution_count": null,
   "id": "c84f5084",
   "metadata": {},
   "outputs": [],
   "source": [
    "<html>\n",
    "\n",
    "<head>\n",
    "    <link rel=\"stylesheet\" href=\"https://maxcdn.bootstrapcdn.com/bootstrap/4.0.0/css/bootstrap.min.css\"\n",
    "        integrity=\"sha384-Gn5384xqQ1aoWXA+058RXPxPg6fy4IWvTNh0E263XmFcJlSAwiGgFAW/dAiS6JXm\" crossorigin=\"anonymous\">\n",
    "    <title>Upload Image</title>\n",
    "</head>\n",
    "\n",
    "<body>\n",
    "    <div class=\"col-sm\">\n",
    "        <h1><span class=\"badge badge-danger\">File Detection</span></h1>\n",
    "    </div>\n",
    "\n",
    "    <div class=\"col-sm\">\n",
    "        <form action=\"/predict\" method=\"post\" enctype=\"multipart/form-data\">\n",
    "            <input type=\"file\" name=\"file\" />\n",
    "            <input type=\"submit\" value=\"Upload\">\n",
    "        </form>\n",
    "    </div>\n",
    "</body>\n",
    "\n",
    "</html>"
   ]
  }
 ],
 "metadata": {
  "kernelspec": {
   "display_name": "Python 3 (ipykernel)",
   "language": "python",
   "name": "python3"
  },
  "language_info": {
   "codemirror_mode": {
    "name": "ipython",
    "version": 3
   },
   "file_extension": ".py",
   "mimetype": "text/x-python",
   "name": "python",
   "nbconvert_exporter": "python",
   "pygments_lexer": "ipython3",
   "version": "3.9.12"
  }
 },
 "nbformat": 4,
 "nbformat_minor": 5
}
