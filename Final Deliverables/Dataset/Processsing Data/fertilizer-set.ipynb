{
 "cells": [
  {
   "cell_type": "code",
   "execution_count": null,
   "id": "97f2d95e",
   "metadata": {},
   "outputs": [],
   "source": [
    "\tCrop\tN\tP\tK\tpH\tsoil_moisture\n",
    "0\trice\t80\t40\t40\t5.5\t30\n",
    "3\tmaize\t80\t40\t20\t5.5\t50\n",
    "5\tchickpea\t40\t60\t80\t5.5\t60\n",
    "12\tkidneybeans\t20\t60\t20\t5.5\t45\n",
    "13\tpigeonpeas\t20\t60\t20\t5.5\t45\n",
    "14\tmothbeans\t20\t40\t20\t5.5\t30\n",
    "15\tmungbean\t20\t40\t20\t5.5\t80\n",
    "18\tblackgram\t40\t60\t20\t5\t60\n",
    "24\tlentil\t20\t60\t20\t5.5\t90\n",
    "60\tpomegranate\t20\t10\t40\t5.5\t30\n",
    "61\tbanana\t100\t75\t50\t6.5\t40\n",
    "62\tmango\t20\t20\t30\t5\t15\n",
    "63\tgrapes\t20\t125\t200\t4\t60\n",
    "66\twatermelon\t100\t10\t50\t5.5\t70\n",
    "67\tmuskmelon\t100\t10\t50\t5.5\t30\n",
    "69\tapple\t20\t125\t200\t6.5\t50\n",
    "74\torange\t20\t10\t10\t4\t60\n",
    "75\tpapaya\t50\t50\t50\t6\t20\n",
    "88\tcoconut\t20\t10\t30\t5\t45\n",
    "93\tcotton\t120\t40\t20\t5.5\t70\n",
    "94\tjute\t80\t40\t40\t5.5\t20\n",
    "95\tcoffee\t100\t20\t30\t5.5\t20"
   ]
  }
 ],
 "metadata": {
  "kernelspec": {
   "display_name": "Python 3 (ipykernel)",
   "language": "python",
   "name": "python3"
  },
  "language_info": {
   "codemirror_mode": {
    "name": "ipython",
    "version": 3
   },
   "file_extension": ".py",
   "mimetype": "text/x-python",
   "name": "python",
   "nbconvert_exporter": "python",
   "pygments_lexer": "ipython3",
   "version": "3.9.12"
  }
 },
 "nbformat": 4,
 "nbformat_minor": 5
}
