{
 "cells": [
  {
   "cell_type": "code",
   "execution_count": null,
   "id": "7b7b29dd",
   "metadata": {},
   "outputs": [],
   "source": [
    "Crop\tN\tP\tK\n",
    "apple\t20\t125\t200\n",
    "banana\t100\t75\t50\n",
    "blackgram\t40\t60\t20\n",
    "chickpea\t20\t50\t20\n",
    "coconut\t20\t10\t30\n",
    "coffee\t100\t20\t30\n",
    "cotton\t115.7\t30.9\t7\n",
    "grapes\t20\t125\t200\n",
    "groundnut\t35.3\t53.8\t28.9\n",
    "jute\t55.9\t22.4\t10.2\n",
    "kidneybeans\t20\t60\t20\n",
    "lentil\t20\t40\t40\n",
    "maize\t120\t60\t50\n",
    "mango\t20\t20\t30\n",
    "mothbeans\t20\t40\t20\n",
    "mungbean\t20\t40\t20\n",
    "muskmelon\t100\t10\t50\n",
    "mustard\t81.7\t30.4\t4.3\n",
    "orange\t20\t10\t10\n",
    "paddy\t103.4\t32.8\t18.8\n",
    "papaya\t50\t50\t50\n",
    "pearlmillet\t80\t60\t40\n",
    "pigeonpea\t20\t50\t20\n",
    "pomegranate\t20\t10\t40\n",
    "rapeseed\t81.7\t30.4\t4.3\n",
    "rice\t120\t60\t60\n",
    "sorghum\t58.5\t29.1\t10.7\n",
    "sugarcane\t126.4\t45\t40.6\n",
    "watermelon\t100\t10\t50\n",
    "wheat\t120\t60\t60"
   ]
  }
 ],
 "metadata": {
  "kernelspec": {
   "display_name": "Python 3 (ipykernel)",
   "language": "python",
   "name": "python3"
  },
  "language_info": {
   "codemirror_mode": {
    "name": "ipython",
    "version": 3
   },
   "file_extension": ".py",
   "mimetype": "text/x-python",
   "name": "python",
   "nbconvert_exporter": "python",
   "pygments_lexer": "ipython3",
   "version": "3.9.12"
  }
 },
 "nbformat": 4,
 "nbformat_minor": 5
}
